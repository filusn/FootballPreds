{
 "cells": [
  {
   "cell_type": "code",
   "execution_count": 11,
   "metadata": {},
   "outputs": [],
   "source": [
    "import pandas as pd\n",
    "import numpy as np\n",
    "import datetime"
   ]
  },
  {
   "cell_type": "code",
   "execution_count": 12,
   "metadata": {},
   "outputs": [],
   "source": [
    "season = pd.read_csv('NOR.csv')"
   ]
  },
  {
   "cell_type": "code",
   "execution_count": 13,
   "metadata": {},
   "outputs": [
    {
     "name": "stdout",
     "output_type": "stream",
     "text": [
      "{'0:0': 27, '0:1': 21, '0:2': 17, '0:3': 10, '0:4': 7, '0:5': 1, '1:0': 38, '1:1': 38, '1:2': 24, '1:3': 12, '1:4': 7, '1:5': 1, '1:6': 1, '1:7': 1, '2:0': 33, '2:1': 30, '2:2': 17, '2:3': 3, '2:4': 2, '3:0': 19, '3:1': 26, '3:2': 8, '3:3': 2, '3:4': 2, '4:0': 11, '4:1': 5, '4:2': 6, '4:3': 2, '5:0': 3, '5:1': 2, '5:4': 1, '6:1': 2, '6:3': 1}\n",
      "38\n"
     ]
    }
   ],
   "source": [
    "eng_data = pd.read_csv('./data/E0.csv')\n",
    "hres = list(eng_data['FTHG'])\n",
    "ares = list(eng_data['FTAG'])\n",
    "results = list()\n",
    "for goals in zip(hres, ares):\n",
    "    results.append('{}:{}'.format(goals[0], goals[1]))\n",
    "unique, counts = np.unique(results, return_counts=True)\n",
    "res_dict = dict(zip(unique, counts))\n",
    "print(res_dict)\n",
    "print(max(res_dict.values())) "
   ]
  },
  {
   "cell_type": "code",
   "execution_count": 14,
   "metadata": {},
   "outputs": [],
   "source": [
    "rounds = dict()\n",
    "round_number = 0\n",
    "day_delta = datetime.timedelta(days=2, hours=0, minutes=0, seconds=0)\n",
    "previous_date = datetime.date(year=2000, month=1, day=1)\n",
    "current_round = 'round ' + str(round_number)\n",
    "for index, row in eng_data.iterrows():\n",
    "    date = row['Date']\n",
    "    date = '-'.join(reversed(date.split('/')))\n",
    "    splited = [int(a) for a in date.split('-')]\n",
    "#     date = datetime.date.fromisoformat(date)\n",
    "#     print(splited)\n",
    "    date = datetime.date(year=splited[0], month=splited[1], day=splited[2])\n",
    "    if date - previous_date > day_delta:\n",
    "        round_number += 1\n",
    "        current_round = 'round ' + str(round_number)\n",
    "    if current_round in rounds.keys():\n",
    "        rounds[current_round].append('{}:{}'.format(row['FTHG'], row['FTAG']))\n",
    "    else:\n",
    "        rounds[current_round] = ['{}:{}'.format(row['FTHG'], row['FTAG'])]\n",
    "    previous_date = date"
   ]
  },
  {
   "cell_type": "code",
   "execution_count": 15,
   "metadata": {},
   "outputs": [
    {
     "name": "stdout",
     "output_type": "stream",
     "text": [
      "round 0 1:1: 3 1:0: n\n",
      "round 1 1:1: n 1:0: 2\n",
      "round 2 1:1: 3 1:0: 1\n",
      "round 3 1:1: 1 1:0: 1\n",
      "round 4 1:1: n 1:0: 2\n",
      "round 5 1:1: 1 1:0: 1\n",
      "round 6 1:1: 4 1:0: n\n",
      "round 7 1:1: 2 1:0: n\n",
      "round 8 1:1: 1 1:0: 1\n",
      "round 9 1:1: 1 1:0: 1\n",
      "round 10 1:1: 3 1:0: n\n",
      "round 11 1:1: 2 1:0: n\n",
      "round 12 1:1: 2 1:0: 1\n",
      "round 13 1:1: 1 1:0: 1\n",
      "round 14 1:1: n 1:0: 5\n",
      "round 15 1:1: n 1:0: 2\n",
      "round 16 1:1: 1 1:0: 4\n",
      "round 17 1:1: 1 1:0: 1\n",
      "round 18 1:1: 1 1:0: n\n",
      "round 19 1:1: 3 1:0: 1\n",
      "round 20 1:1: n 1:0: 2\n",
      "round 21 1:1: 1 1:0: 1\n",
      "round 22 1:1: 2 1:0: 1\n",
      "round 23 1:1: 1 1:0: n\n",
      "round 24 1:1: n 1:0: n\n",
      "round 25 1:1: 1 1:0: 1\n",
      "round 26 1:1: 1 1:0: 2\n",
      "round 27 1:1: n 1:0: 1\n",
      "round 28 1:1: n 1:0: 1\n",
      "round 29 1:1: 1 1:0: 2\n",
      "round 30 1:1: n 1:0: 3\n",
      "round 31 1:1: 1 1:0: n\n"
     ]
    }
   ],
   "source": [
    "for key, value in rounds.items():\n",
    "    unique, counts = np.unique(value, return_counts=True)\n",
    "    res_dict = dict(zip(unique, counts))\n",
    "    print(key, end =\" \")\n",
    "    try:\n",
    "        print('1:1:', res_dict['1:1'], end =\" \")\n",
    "    except:\n",
    "        print('1:1: n', end =\" \")\n",
    "    try:\n",
    "        print('1:0:', res_dict['1:0'])\n",
    "    except:\n",
    "        print('1:0: n')"
   ]
  },
  {
   "cell_type": "code",
   "execution_count": null,
   "metadata": {},
   "outputs": [],
   "source": []
  },
  {
   "cell_type": "code",
   "execution_count": null,
   "metadata": {},
   "outputs": [],
   "source": []
  }
 ],
 "metadata": {
  "kernelspec": {
   "display_name": "Python 3",
   "language": "python",
   "name": "python3"
  },
  "language_info": {
   "codemirror_mode": {
    "name": "ipython",
    "version": 3
   },
   "file_extension": ".py",
   "mimetype": "text/x-python",
   "name": "python",
   "nbconvert_exporter": "python",
   "pygments_lexer": "ipython3",
   "version": "3.6.5"
  }
 },
 "nbformat": 4,
 "nbformat_minor": 2
}
